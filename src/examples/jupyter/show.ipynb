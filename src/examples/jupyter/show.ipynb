{
 "cells": [
  {
   "cell_type": "code",
   "execution_count": 1,
   "id": "387201bc-6e26-47b5-95b8-cf3bc0f2f77d",
   "metadata": {},
   "outputs": [],
   "source": [
    "import zarr\n",
    "\n",
    "zarr_path = \"/Users/sebastien.jourdain/Documents/code/web/apps/pan3d/data/test.zarr\"\n",
    "zarr_store = zarr.open(zarr_path, mode=\"r\")"
   ]
  },
  {
   "cell_type": "code",
   "execution_count": 2,
   "id": "d2589707",
   "metadata": {},
   "outputs": [],
   "source": [
    "from pan3d.viewer.jupyter import show"
   ]
  },
  {
   "cell_type": "code",
   "execution_count": 3,
   "id": "98d42b44",
   "metadata": {},
   "outputs": [
    {
     "data": {
      "text/html": [
       "\n",
       "        <iframe\n",
       "            width=\"100%\"\n",
       "            height=\"600\"\n",
       "            src=\"http://localhost:58484/index.html\"\n",
       "            frameborder=\"0\"\n",
       "            allowfullscreen\n",
       "            \n",
       "        ></iframe>\n",
       "        "
      ],
      "text/plain": [
       "<IPython.lib.display.IFrame at 0x157f0d9d0>"
      ]
     },
     "metadata": {},
     "output_type": "display_data"
    }
   ],
   "source": [
    "show(zarr=zarr_store, height=600)"
   ]
  },
  {
   "cell_type": "code",
   "execution_count": null,
   "id": "a52040f6-1f3f-4727-8a57-0a589944f61d",
   "metadata": {},
   "outputs": [],
   "source": []
  }
 ],
 "metadata": {
  "kernelspec": {
   "display_name": "Python 3 (ipykernel)",
   "language": "python",
   "name": "python3"
  },
  "language_info": {
   "codemirror_mode": {
    "name": "ipython",
    "version": 3
   },
   "file_extension": ".py",
   "mimetype": "text/x-python",
   "name": "python",
   "nbconvert_exporter": "python",
   "pygments_lexer": "ipython3",
   "version": "3.9.9"
  },
  "vscode": {
   "interpreter": {
    "hash": "a0f311542c691c84d8a00fa5cb19bcba208cb29256c703c493b26e485d42c462"
   }
  }
 },
 "nbformat": 4,
 "nbformat_minor": 5
}
