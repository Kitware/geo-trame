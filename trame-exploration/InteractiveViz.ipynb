{
 "cells": [
  {
   "cell_type": "markdown",
   "id": "03b70b46-dbe0-4c9a-87d3-27b1cb76bc4f",
   "metadata": {},
   "source": [
    "## Import all our dependencies\n"
   ]
  },
  {
   "cell_type": "code",
   "execution_count": 1,
   "id": "29d5c330-be69-4711-b400-cd7aeb4bfa0f",
   "metadata": {},
   "outputs": [],
   "source": [
    "import xarray as xr\n",
    "import zarr\n",
    "import trame_viewer"
   ]
  },
  {
   "cell_type": "markdown",
   "id": "06bbe604-da16-4c00-a65c-19eae8088a69",
   "metadata": {},
   "source": [
    "## Load dataset"
   ]
  },
  {
   "cell_type": "code",
   "execution_count": 2,
   "id": "ed1ec7de-5ed7-4837-89f4-f30850704d5b",
   "metadata": {},
   "outputs": [],
   "source": [
    "CURRENT_DIRECTORY = \"/Users/sebastien.jourdain/Documents/code/open-source/Web/Pan3D/pan3d/trame-exploration\"\n",
    "ds = xr.open_zarr(f\"{CURRENT_DIRECTORY}/data/test\", consolidated=False)"
   ]
  },
  {
   "cell_type": "markdown",
   "id": "eebbbd65-6b23-497e-917c-8e2754944ef7",
   "metadata": {},
   "source": [
    "## Visualization"
   ]
  },
  {
   "cell_type": "code",
   "execution_count": 3,
   "id": "784d6ab0-6c81-4fdd-bdb7-b9c1ea901df1",
   "metadata": {},
   "outputs": [
    {
     "data": {
      "text/html": [
       "\n",
       "        <iframe\n",
       "            width=\"100%\"\n",
       "            height=\"600\"\n",
       "            src=\"http://localhost:54215/index.html\"\n",
       "            frameborder=\"0\"\n",
       "            allowfullscreen\n",
       "            \n",
       "        ></iframe>\n",
       "        "
      ],
      "text/plain": [
       "<IPython.lib.display.IFrame at 0x16a278880>"
      ]
     },
     "metadata": {},
     "output_type": "display_data"
    }
   ],
   "source": [
    "trame_viewer.show(ds, remote_rendering=True)"
   ]
  },
  {
   "cell_type": "code",
   "execution_count": null,
   "id": "5e72121e-b5bc-4932-bd5e-0f5c43a7f6af",
   "metadata": {},
   "outputs": [],
   "source": []
  }
 ],
 "metadata": {
  "kernelspec": {
   "display_name": "Python 3 (ipykernel)",
   "language": "python",
   "name": "python3"
  },
  "language_info": {
   "codemirror_mode": {
    "name": "ipython",
    "version": 3
   },
   "file_extension": ".py",
   "mimetype": "text/x-python",
   "name": "python",
   "nbconvert_exporter": "python",
   "pygments_lexer": "ipython3",
   "version": "3.9.7"
  }
 },
 "nbformat": 4,
 "nbformat_minor": 5
}
