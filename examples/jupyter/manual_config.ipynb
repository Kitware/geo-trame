{
 "cells": [
  {
   "cell_type": "code",
   "execution_count": 1,
   "id": "7cec5393-caf9-4595-b568-01acd53c231e",
   "metadata": {},
   "outputs": [],
   "source": [
    "from pan3d import DatasetBuilder"
   ]
  },
  {
   "cell_type": "code",
   "execution_count": 2,
   "id": "2f052f51-86f1-4b44-bfa9-0c6d75892571",
   "metadata": {},
   "outputs": [
    {
     "data": {
      "application/vnd.jupyter.widget-view+json": {
       "model_id": "f702219f9bf5413e84404be887991d7f",
       "version_major": 2,
       "version_minor": 0
      },
      "text/plain": [
       "HTML(value='<iframe id=\"trame_trame__template_main\" src=\"http://localhost:37155/index.html?ui=main&reconnect=a…"
      ]
     },
     "metadata": {},
     "output_type": "display_data"
    }
   ],
   "source": [
    "builder = DatasetBuilder()\n",
    "\n",
    "builder.set_dataset_path('../example_dataset.nc')\n",
    "builder.set_data_array_active_name('density')\n",
    "builder.set_data_array_axis_names(\n",
    "    x='length',\n",
    "    y='width',\n",
    "    z='height',\n",
    "    t='second',\n",
    ")\n",
    "builder.set_data_array_time_index(2)\n",
    "\n",
    "# Show viewer in cell output\n",
    "await builder.viewer.ready\n",
    "builder.viewer"
   ]
  }
 ],
 "metadata": {
  "kernelspec": {
   "display_name": "pan3d",
   "language": "python",
   "name": "pan3d"
  },
  "language_info": {
   "codemirror_mode": {
    "name": "ipython",
    "version": 3
   },
   "file_extension": ".py",
   "mimetype": "text/x-python",
   "name": "python",
   "nbconvert_exporter": "python",
   "pygments_lexer": "ipython3",
   "version": "3.9.18"
  }
 },
 "nbformat": 4,
 "nbformat_minor": 5
}
