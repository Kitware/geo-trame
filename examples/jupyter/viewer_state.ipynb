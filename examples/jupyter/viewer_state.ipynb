{
 "cells": [
  {
   "cell_type": "code",
   "execution_count": null,
   "id": "186ece10-fdd9-4976-a71b-b29da40e72ec",
   "metadata": {},
   "outputs": [],
   "source": [
    "from pan3d import DatasetViewer"
   ]
  },
  {
   "cell_type": "code",
   "execution_count": null,
   "id": "6fedc342-3b85-4892-a98a-d5c4ffe78ce8",
   "metadata": {},
   "outputs": [],
   "source": [
    "# A Viewer can be instantiated without a Builder.\n",
    "# The Builder will be created behind the scenes.\n",
    "viewer = DatasetViewer()\n",
    "\n",
    "# Use Xarray example: Regional Arctic System Model\n",
    "viewer.state.dataset_path = 'rasm'\n",
    "\n",
    "# Apply change, allow for auto array/coordinate selection\n",
    "viewer.state.flush()\n",
    "\n",
    "# Make additional state modifications\n",
    "viewer.state.ui_main_drawer = False\n",
    "viewer.state.ui_axis_drawer = True\n",
    "viewer.state.ui_expanded_coordinates = ['time']\n",
    "\n",
    "await viewer.ready\n",
    "viewer.ui"
   ]
  }
 ],
 "metadata": {
  "kernelspec": {
   "display_name": "pan3d",
   "language": "python",
   "name": "pan3d"
  },
  "language_info": {
   "codemirror_mode": {
    "name": "ipython",
    "version": 3
   },
   "file_extension": ".py",
   "mimetype": "text/x-python",
   "name": "python",
   "nbconvert_exporter": "python",
   "pygments_lexer": "ipython3",
   "version": "3.9.18"
  }
 },
 "nbformat": 4,
 "nbformat_minor": 5
}
