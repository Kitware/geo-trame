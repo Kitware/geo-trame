{
 "cells": [
  {
   "cell_type": "code",
   "execution_count": null,
   "id": "b0844d55",
   "metadata": {},
   "outputs": [],
   "source": [
    "from pan3d import DatasetBuilder"
   ]
  },
  {
   "cell_type": "code",
   "execution_count": null,
   "id": "c66ff554",
   "metadata": {},
   "outputs": [],
   "source": [
    "dataset_path = 'https://ncsa.osn.xsede.org/Pangeo/pangeo-forge/noaa-coastwatch-geopolar-sst-feedstock/noaa-coastwatch-geopolar-sst.zarr'\n",
    "state = {\n",
    "    'active_array': 'analysed_sst',\n",
    "    'x_array': 'lat',\n",
    "    'y_array': 'lon',\n",
    "    't_array': 'time',\n",
    "    't_index': 5,\n",
    "    'main_drawer': False,\n",
    "}\n",
    "builder = DatasetBuilder(dataset_path=dataset_path, state=state)\n",
    "\n",
    "# Show viewer in cell output\n",
    "await builder.viewer.ready\n",
    "builder.viewer"
   ]
  }
 ],
 "metadata": {
  "kernelspec": {
   "display_name": "pan3d",
   "language": "python",
   "name": "pan3d"
  },
  "language_info": {
   "codemirror_mode": {
    "name": "ipython",
    "version": 3
   },
   "file_extension": ".py",
   "mimetype": "text/x-python",
   "name": "python",
   "nbconvert_exporter": "python",
   "pygments_lexer": "ipython3",
   "version": "3.9.17"
  },
  "toc": {
   "base_numbering": 1,
   "nav_menu": {},
   "number_sections": true,
   "sideBar": true,
   "skip_h1_title": false,
   "title_cell": "Table of Contents",
   "title_sidebar": "Contents",
   "toc_cell": false,
   "toc_position": {},
   "toc_section_display": true,
   "toc_window_display": false
  }
 },
 "nbformat": 4,
 "nbformat_minor": 5
}
