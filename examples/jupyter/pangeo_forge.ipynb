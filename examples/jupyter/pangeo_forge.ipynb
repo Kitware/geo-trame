{
 "cells": [
  {
   "cell_type": "code",
   "execution_count": null,
   "id": "b0844d55",
   "metadata": {},
   "outputs": [],
   "source": [
    "from pan3d import DatasetBuilder"
   ]
  },
  {
   "cell_type": "code",
   "execution_count": null,
   "id": "c66ff554",
   "metadata": {},
   "outputs": [],
   "source": [
    "dataset_path = 'https://ncsa.osn.xsede.org/Pangeo/pangeo-forge/noaa-coastwatch-geopolar-sst-feedstock/noaa-coastwatch-geopolar-sst.zarr'\n",
    "config = {\n",
    "    'data_origin': dataset_path,\n",
    "    'data_array': {\n",
    "        'active': 'analysed_sst',\n",
    "        'x': 'lon',\n",
    "        'y': 'lat',\n",
    "        't': 'time',\n",
    "        't_index': 5,\n",
    "    },\n",
    "    'data_slices': {\n",
    "        'lat': [-90, 90, 20],\n",
    "        'lon': [-180, 180, 20]\n",
    "    },\n",
    "    'ui': {\n",
    "        'main_drawer': False,\n",
    "        'axis_drawer': False,\n",
    "        'expanded_coordinates': []\n",
    "    }\n",
    "}\n",
    "builder = DatasetBuilder()\n",
    "builder.import_config(config)\n",
    "\n",
    "# Show viewer in cell output\n",
    "await builder.viewer.ready\n",
    "builder.viewer"
   ]
  },
  {
   "cell_type": "code",
   "execution_count": null,
   "id": "34086301",
   "metadata": {},
   "outputs": [],
   "source": []
  }
 ],
 "metadata": {
  "kernelspec": {
   "display_name": "pan3d",
   "language": "python",
   "name": "pan3d"
  },
  "language_info": {
   "codemirror_mode": {
    "name": "ipython",
    "version": 3
   },
   "file_extension": ".py",
   "mimetype": "text/x-python",
   "name": "python",
   "nbconvert_exporter": "python",
   "pygments_lexer": "ipython3",
   "version": "3.9.18"
  },
  "toc": {
   "base_numbering": 1,
   "nav_menu": {},
   "number_sections": true,
   "sideBar": true,
   "skip_h1_title": false,
   "title_cell": "Table of Contents",
   "title_sidebar": "Contents",
   "toc_cell": false,
   "toc_position": {},
   "toc_section_display": true,
   "toc_window_display": false
  }
 },
 "nbformat": 4,
 "nbformat_minor": 5
}
