{
 "cells": [
  {
   "cell_type": "code",
   "execution_count": null,
   "id": "7cec5393-caf9-4595-b568-01acd53c231e",
   "metadata": {},
   "outputs": [],
   "source": [
    "from pan3d import Pan3DViewer"
   ]
  },
  {
   "cell_type": "code",
   "execution_count": null,
   "id": "2f052f51-86f1-4b44-bfa9-0c6d75892571",
   "metadata": {},
   "outputs": [],
   "source": [
    "bookmark_path = '../example_bookmark.json'\n",
    "viewer = Pan3DViewer()\n",
    "viewer.import_bookmark(bookmark_path)\n",
    "\n",
    "# Show gui in cell output\n",
    "await viewer.layout.ready\n",
    "viewer.gui"
   ]
  }
 ],
 "metadata": {
  "kernelspec": {
   "display_name": "pan3d",
   "language": "python",
   "name": "pan3d"
  },
  "language_info": {
   "codemirror_mode": {
    "name": "ipython",
    "version": 3
   },
   "file_extension": ".py",
   "mimetype": "text/x-python",
   "name": "python",
   "nbconvert_exporter": "python",
   "pygments_lexer": "ipython3",
   "version": "3.9.17"
  }
 },
 "nbformat": 4,
 "nbformat_minor": 5
}
