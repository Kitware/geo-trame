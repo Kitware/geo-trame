{
 "cells": [
  {
   "cell_type": "code",
   "execution_count": null,
   "id": "6a46d66c",
   "metadata": {},
   "outputs": [],
   "source": [
    "from pan3d import DatasetBuilder\n",
    "import pyvista as pv\n",
    "from datetime import datetime"
   ]
  },
  {
   "cell_type": "code",
   "execution_count": null,
   "id": "cca01de1-d84c-47d6-a2e9-2462ab4cfbb8",
   "metadata": {},
   "outputs": [],
   "source": [
    "start = datetime.now()\n",
    "\n",
    "# Use Pan3D DatasetBuilder to import existing config file\n",
    "config_path = '../example_config_cmip.json'\n",
    "builder = DatasetBuilder()\n",
    "builder.import_config(config_path)\n",
    "\n",
    "# Access PyVista Mesh on builder\n",
    "print(builder.mesh)\n"
   ]
  },
  {
   "cell_type": "code",
   "execution_count": null,
   "id": "9b1bf3c1-92be-4662-a2f5-fe7cc9ac39eb",
   "metadata": {},
   "outputs": [],
   "source": [
    "# This advanced GIF rendering requires imageio\n",
    "# https://tutorial.pyvista.org/tutorial/03_figures/d_gif.html\n",
    "\n",
    "plotter = pv.Plotter()\n",
    "\n",
    "# Open a GIF\n",
    "plotter.open_gif(\"cmip.gif\")\n",
    "\n",
    "# Update T and write a frame for each updated position\n",
    "# Pan3D Viewer showed that T ranges from Jan 16 1850 to Dec 16 2014, and it has 1980 time steps\n",
    "# That equals one frame per month over 165 years; show one frame for every ten years.\n",
    "n_time_frames = 1980\n",
    "n_skip_frames = 120\n",
    "for i in range(0, n_time_frames, n_skip_frames):\n",
    "    plotter.clear()\n",
    "    builder.t_index = i\n",
    "    actor = plotter.add_mesh(builder.mesh.warp_by_scalar(), render=False, clim=[-2, 2])\n",
    "    \n",
    "    # Write a frame. This triggers a render.\n",
    "    plotter.write_frame()\n",
    "\n",
    "# Closes and finalizes GIF\n",
    "plotter.close()\n",
    "\n",
    "# GIF generation takes about 8 mins for 16 frames (30 seconds to fetch and render each frame)\n",
    "print(f'Saved cmip.gif. Took {datetime.now() - start} seconds.')"
   ]
  }
 ],
 "metadata": {
  "kernelspec": {
   "display_name": "pan3d",
   "language": "python",
   "name": "pan3d"
  },
  "language_info": {
   "codemirror_mode": {
    "name": "ipython",
    "version": 3
   },
   "file_extension": ".py",
   "mimetype": "text/x-python",
   "name": "python",
   "nbconvert_exporter": "python",
   "pygments_lexer": "ipython3",
   "version": "3.9.18"
  }
 },
 "nbformat": 4,
 "nbformat_minor": 5
}
