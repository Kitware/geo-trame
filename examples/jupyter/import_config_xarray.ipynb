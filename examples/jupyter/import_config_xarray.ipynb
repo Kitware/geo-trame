{
 "cells": [
  {
   "cell_type": "code",
   "execution_count": 1,
   "metadata": {},
   "outputs": [],
   "source": [
    "from pan3d import DatasetBuilder\n"
   ]
  },
  {
   "cell_type": "code",
   "execution_count": 2,
   "id": "2f052f51-86f1-4b44-bfa9-0c6d75892571",
   "metadata": {},
   "outputs": [
    {
     "name": "stdout",
     "output_type": "stream",
     "text": [
      "<xarray.DataArray 'z' (level: 3, latitude: 13, longitude: 25)>\n",
      "array([[[122162.65612983, 122133.33066288, 122064.32956418,\n",
      "         121960.82791613, 121845.25107581, 121724.49915309,\n",
      "         121610.64734023, 121543.371269  , 121531.29607673,\n",
      "         121560.62154367, 121612.3723677 , 121679.64843893,\n",
      "         121757.27467497, 121829.7258286 , 121876.30157023,\n",
      "         121884.92670756, 121862.50135049, 121814.2005814 ,\n",
      "         121736.57434536, 121639.97280718, 121574.42176341,\n",
      "         121584.77192822, 121645.14788958, 121708.97390588,\n",
      "         121748.64953763],\n",
      "        [122176.45634957, 122110.9053058 , 122005.67863029,\n",
      "         121869.40146036, 121708.97390588, 121539.92121406,\n",
      "         121374.31857718, 121288.06720381, 121303.59245102,\n",
      "         121393.29387933, 121503.69563725, 121614.09739517,\n",
      "         121722.77412562, 121821.10069127, 121910.80211958,\n",
      "         121940.12758652, 121912.52714704, 121828.00080114,\n",
      "         121677.92341146, 121488.17039004, 121408.81912653,\n",
      "         121481.27028017, 121612.3723677 , 121721.04909815,\n",
      "         121786.60014192],\n",
      "        [122150.58093756, 122066.05459165, 121938.40255906,\n",
      "         121771.07489471, 121558.89651621, 121301.86742355,\n",
      "...\n",
      "          11783.32356711,  11859.22477568,  11995.50194561,\n",
      "          12099.00359366],\n",
      "        [ 11783.32356711,  11714.32246841,  11666.02169932,\n",
      "          11643.59634225,  11645.32136971,  11664.29667185,\n",
      "          11700.52224867,  11760.89821003,  11854.04969328,\n",
      "          11967.90150613,  12062.77801685,  12105.90370353,\n",
      "          12085.20337392,  11986.87680828,  11890.2752701 ,\n",
      "          11847.14958341,  11838.52444607,  11843.69952847,\n",
      "          11859.22477568,  11897.17537997,  11959.2763688 ,\n",
      "          12011.02719282,  12078.30326405,  12150.75441769,\n",
      "          12212.85540652],\n",
      "        [ 12371.55793353,  12371.55793353,  12371.55793353,\n",
      "          12371.55793353,  12371.55793353,  12371.55793353,\n",
      "          12371.55793353,  12371.55793353,  12371.55793353,\n",
      "          12371.55793353,  12371.55793353,  12371.55793353,\n",
      "          12371.55793353,  12371.55793353,  12371.55793353,\n",
      "          12371.55793353,  12371.55793353,  12371.55793353,\n",
      "          12371.55793353,  12371.55793353,  12371.55793353,\n",
      "          12371.55793353,  12371.55793353,  12371.55793353,\n",
      "          12371.55793353]]])\n",
      "Coordinates:\n",
      "  * longitude  (longitude) float32 -180.0 -172.5 -165.0 ... -15.0 -7.5 0.0\n",
      "  * latitude   (latitude) float32 0.0 -7.5 -15.0 -22.5 ... -75.0 -82.5 -90.0\n",
      "  * level      (level) int32 200 500 850\n",
      "    month      int32 1\n",
      "Attributes:\n",
      "    number_of_significant_digits:  5\n",
      "    units:                         m**2 s**-2\n",
      "    long_name:                     Geopotential\n",
      "    standard_name:                 geopotential\n",
      "Error: Skip state value for 'da_vars_attrs' since its content is not serializable\n"
     ]
    },
    {
     "data": {
      "application/vnd.jupyter.widget-view+json": {
       "model_id": "02bac65d50444882a40f189e2b8890e2",
       "version_major": 2,
       "version_minor": 0
      },
      "text/plain": [
       "HTML(value='<iframe id=\"trame_trame__template_main\" src=\"http://localhost:43797/index.html?ui=main&reconnect=a…"
      ]
     },
     "metadata": {},
     "output_type": "display_data"
    }
   ],
   "source": [
    "config_path = '../example_config_xarray.json'\n",
    "builder = DatasetBuilder()\n",
    "builder.import_config(config_path)\n",
    "\n",
    "# Print vtk data array\n",
    "print(builder.data_array)\n",
    "\n",
    "# Show viewer in cell output\n",
    "await builder.viewer.ready\n",
    "builder.viewer\n"
   ]
  }
 ],
 "metadata": {
  "kernelspec": {
   "display_name": "pan3d",
   "language": "python",
   "name": "pan3d"
  },
  "language_info": {
   "codemirror_mode": {
    "name": "ipython",
    "version": 3
   },
   "file_extension": ".py",
   "mimetype": "text/x-python",
   "name": "python",
   "nbconvert_exporter": "python",
   "pygments_lexer": "ipython3",
   "version": "3.9.18"
  }
 },
 "nbformat": 4,
 "nbformat_minor": 5
}
